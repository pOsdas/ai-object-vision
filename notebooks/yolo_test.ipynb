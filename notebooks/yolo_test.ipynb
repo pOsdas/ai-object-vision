{
 "cells": [
  {
   "cell_type": "markdown",
   "source": [
    "Все комментарии касаются работы в google colab "
   ],
   "metadata": {
    "collapsed": false
   },
   "id": "9aa5d34f34245a75"
  },
  {
   "cell_type": "code",
   "execution_count": null,
   "outputs": [],
   "source": [
    "!pip install ultralytics\n",
    "!pip install pycocotools"
   ],
   "metadata": {
    "collapsed": false
   },
   "id": "2b4cd0a3bbcf0704"
  },
  {
   "cell_type": "code",
   "execution_count": null,
   "id": "initial_id",
   "metadata": {
    "collapsed": true
   },
   "outputs": [],
   "source": [
    "from ultralytics import YOLO\n",
    "import torch\n",
    "\n",
    "\n",
    "# Загрузка предобученной модели YOLOv8\n",
    "model = YOLO('../model/yolov8n-seg.pt')\n",
    "# model = YOLO('../model/yolov8n.pt')\n",
    "\n",
    "# Конфигурация тестовых данных\n",
    "data_config = '../coco.yaml'  \n",
    "\n",
    "# Запуск валидации\n",
    "metrics = model.val(\n",
    "    data=data_config,\n",
    "    split='val',  # Используем validation set\n",
    "    imgsz=640,    # Размер изображения\n",
    "    batch=16,     # Размер батча\n",
    "    conf=0.5,     # Порог уверенности\n",
    "    iou=0.6,      # IoU threshold\n",
    "    device='cuda' if torch.cuda.is_available() else 'cpu',  # Использование GPU если доступно\n",
    "    verbose=True  # Подробный вывод\n",
    ")\n",
    "\n",
    "# Вывод основных метрик\n",
    "print(\"\\nРезультаты точности:\")\n",
    "print(f\"mAP@0.5:       {metrics.box.map * 100:.2f}%\")        # AP при IoU=0.5\n",
    "print(f\"mAP@0.5-0.95: {metrics.box.map50_95 * 100:.2f}%\")    # Средний AP при IoU 0.5-0.95\n",
    "print(f\"Точность (precision): {metrics.box.precision * 100:.2f}%\")\n",
    "print(f\"Полнота (recall):    {metrics.box.recall * 100:.2f}%\")"
   ]
  },
  {
   "cell_type": "markdown",
   "source": [],
   "metadata": {
    "collapsed": false
   },
   "id": "29ff348e85f0983b"
  }
 ],
 "metadata": {
  "kernelspec": {
   "display_name": "Python 3",
   "language": "python",
   "name": "python3"
  },
  "language_info": {
   "codemirror_mode": {
    "name": "ipython",
    "version": 2
   },
   "file_extension": ".py",
   "mimetype": "text/x-python",
   "name": "python",
   "nbconvert_exporter": "python",
   "pygments_lexer": "ipython2",
   "version": "2.7.6"
  }
 },
 "nbformat": 4,
 "nbformat_minor": 5
}
