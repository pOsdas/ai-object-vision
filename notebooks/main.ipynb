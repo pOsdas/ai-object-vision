{
 "cells": [
  {
   "cell_type": "markdown",
   "source": [
    "# Распознавание объектов на фотографиях с использованием сверхточных нейросетей"
   ],
   "metadata": {
    "collapsed": false
   },
   "id": "344e932edb0c09a"
  },
  {
   "cell_type": "code",
   "execution_count": null,
   "outputs": [],
   "source": [
    "# # Импортируем библиотеки\n",
    "from ultralytics import YOLO\n",
    "import cv2"
   ],
   "metadata": {
    "collapsed": false
   },
   "id": "initial_id"
  },
  {
   "cell_type": "code",
   "execution_count": null,
   "outputs": [],
   "source": [
    "# # Основная функция\n",
    "def detect_objects(image_path, output_path):\n",
    "    # Загружаем предобученную модель YOLOv8 для сегментации.\n",
    "    # Модель из: https://github.com/matterport/Mask_RCNN\n",
    "    model = YOLO('model/yolov8n-seg.pt')\n",
    "\n",
    "    # Выполняем предсказание на изображении.\n",
    "    results = model(image_path)\n",
    "\n",
    "    # Получаем аннотированное изображение из первого результата.\n",
    "    annotated_image = results[0].plot()\n",
    "\n",
    "    # Сохраняем результат.\n",
    "    cv2.imwrite(output_path, annotated_image)\n",
    "    print(f\"Результат сохранён в {output_path}\")"
   ],
   "metadata": {
    "collapsed": false
   },
   "id": "e4683242d7f40946"
  },
  {
   "cell_type": "code",
   "execution_count": null,
   "outputs": [],
   "source": [
    "# # Отправная точка\n",
    "def main():\n",
    "    image_path = \"test_input/image1.jpg\"  # Путь к входному изображению\n",
    "    output_path = \"output/output.jpg\"  # Путь для сохранения результата\n",
    "    detect_objects(image_path, output_path)\n",
    "\n",
    "\n",
    "if __name__ == \"__main__\":\n",
    "    main()"
   ],
   "metadata": {
    "collapsed": false
   },
   "id": "5b08c917939af384"
  }
 ],
 "metadata": {
  "kernelspec": {
   "display_name": "Python 3",
   "language": "python",
   "name": "python3"
  },
  "language_info": {
   "codemirror_mode": {
    "name": "ipython",
    "version": 2
   },
   "file_extension": ".py",
   "mimetype": "text/x-python",
   "name": "python",
   "nbconvert_exporter": "python",
   "pygments_lexer": "ipython2",
   "version": "2.7.6"
  }
 },
 "nbformat": 4,
 "nbformat_minor": 5
}
