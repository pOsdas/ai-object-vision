{
 "cells": [
  {
   "cell_type": "markdown",
   "source": [
    "# Распознавание объектов на фотографиях с использованием сверхточных нейросетей"
   ],
   "metadata": {
    "collapsed": false
   },
   "id": "344e932edb0c09a"
  },
  {
   "cell_type": "code",
   "execution_count": null,
   "outputs": [],
   "source": [
    "# # Импортируем библиотеки\n",
    "import os\n",
    "import csv\n",
    "import cv2\n",
    "import logging\n",
    "from ultralytics import YOLO\n",
    "from collections import Counter"
   ],
   "metadata": {
    "collapsed": false
   },
   "id": "initial_id"
  },
  {
   "cell_type": "code",
   "execution_count": null,
   "outputs": [],
   "source": [
    "# # Настраиваем логи\n",
    "def setup_logging():\n",
    "    logging.basicConfig(\n",
    "        level=logging.INFO,\n",
    "        format=\"%(asctime)s [%(levelname)s] %(message)s\",\n",
    "        handlers=[\n",
    "            logging.StreamHandler()\n",
    "        ]\n",
    "    )"
   ],
   "metadata": {
    "collapsed": false
   },
   "id": "1faa49cd0730e382"
  },
  {
   "cell_type": "code",
   "execution_count": null,
   "outputs": [],
   "source": [
    "# # Установка CNN модели\n",
    "class SetupModel:\n",
    "    def __init__(self):\n",
    "        # Модель из: https://github.com/matterport/Mask_RCNN\n",
    "        self.model = YOLO('model/yolov8n-seg.pt')\n",
    "\n",
    "    def get(self):\n",
    "        return self.model\n",
    "\n",
    "    def __repr__(self):\n",
    "        return str(self.model)"
   ],
   "metadata": {
    "collapsed": false
   },
   "id": "9d10838c8d61f9fd"
  },
  {
   "cell_type": "code",
   "execution_count": null,
   "outputs": [],
   "source": [
    "# # Основной класс для обработки изображений\n",
    "class ObjectDetector:\n",
    "    def __init__(self):\n",
    "        pass\n",
    "\n",
    "    @staticmethod\n",
    "    def process_image(model, image_path, output_path, csv_path=None):\n",
    "        # Выполняем предсказание на изображении\n",
    "        logging.info(f\"Обработка изображения: {image_path}\")\n",
    "        results = model(image_path)\n",
    "\n",
    "        # Получаем аннотированное изображение из первого результата\n",
    "        annotated_image = results[0].plot()\n",
    "\n",
    "        # Сохраняем результат\n",
    "        cv2.imwrite(output_path, annotated_image)\n",
    "        logging.info(f\"Сохранено: {output_path}\")\n",
    "\n",
    "        # Подсчет объектов\n",
    "        boxes = results[0].boxes\n",
    "        if boxes is not None and len(boxes.cls) > 0:\n",
    "            class_ids = boxes.cls.cpu().numpy()\n",
    "            class_names = [model.names[int(cls_id)] for cls_id in class_ids]\n",
    "\n",
    "            counts = Counter(class_names)\n",
    "\n",
    "            print(\"Обнаруженные объекты:\")\n",
    "            for class_name, cnt in counts.items():\n",
    "                print(f\"{class_name}: {cnt}\")\n",
    "        else:\n",
    "            print(\"Объекты не обнаружены\")\n",
    "            counts = {}\n",
    "\n",
    "        base_name = os.path.basename(image_path)\n",
    "\n",
    "        if csv_path:\n",
    "            file_exists = os.path.isfile(csv_path)\n",
    "            with open(csv_path, mode=\"a\", newline=\"\", encoding=\"utf-8\") as csvfile:\n",
    "                fieldnames = [\"image\"] + list(model.names.values())\n",
    "                writer = csv.DictWriter(csvfile, fieldnames=fieldnames)\n",
    "                if not file_exists:\n",
    "                    writer.writeheader()\n",
    "                row = {\"image\": base_name}\n",
    "                # Инициализируем все классы нулем\n",
    "                for class_id, class_name in model.names.items():\n",
    "                    row[class_name] = counts.get(class_name, 0)\n",
    "                writer.writerow(row)\n",
    "            logging.info(f\"Статистика для {base_name} сохранена в {csv_path}\")\n",
    "\n",
    "        return base_name, counts\n",
    "\n",
    "    def process_directory(self, model, input_folder, output_folder, csv_path):\n",
    "        if not os.path.exists(output_folder):\n",
    "            os.makedirs(output_folder)\n",
    "\n",
    "        # Открываем CSV-файл для записи статистики\n",
    "        with open(csv_path, mode=\"w\", newline=\"\", encoding=\"utf-8\") as csvfile:\n",
    "            fieldnames = [\"image\"] + list(model.names.values())\n",
    "            writer = csv.DictWriter(csvfile, fieldnames=fieldnames)\n",
    "            writer.writeheader()\n",
    "\n",
    "        # Проходим по всем файлам в папке\n",
    "        for filename in os.listdir(input_folder):\n",
    "            if filename.lower().endswith((\".jpg\", \".jpeg\", \".png\", \".bmp\")):\n",
    "                image_file = os.path.join(input_folder, filename)\n",
    "                output_file = os.path.join(output_folder, filename)\n",
    "                self.process_image(model, image_file, output_file, csv_path)\n",
    "\n",
    "        logging.info(f\"Статистика сохранена в {csv_path}\")"
   ],
   "metadata": {
    "collapsed": false
   },
   "id": "e4683242d7f40946"
  },
  {
   "cell_type": "code",
   "execution_count": null,
   "outputs": [],
   "source": [
    "# # Отправная точка\n",
    "def main():\n",
    "    setup_logging()\n",
    "\n",
    "    # Для обработки одного изображения\n",
    "    # image_path = \"test_input/image1.jpg\"  # Путь к входному изображению\n",
    "    # output_path = \"output/output1.jpg\"  # Путь для сохранения результата\n",
    "\n",
    "    # Для обработки директории\n",
    "    folder_path = \"test_input\"\n",
    "    output_path = \"output\"\n",
    "\n",
    "    model = SetupModel().get()\n",
    "    object_detector = ObjectDetector()\n",
    "\n",
    "    # object_detector.process_image(model, image_path, output_path, 'result.csv')\n",
    "\n",
    "    object_detector.process_directory(model, folder_path, output_path, 'result.csv')\n",
    "\n",
    "\n",
    "if __name__ == \"__main__\":\n",
    "    main()"
   ],
   "metadata": {
    "collapsed": false
   },
   "id": "5b08c917939af384"
  }
 ],
 "metadata": {
  "kernelspec": {
   "display_name": "Python 3",
   "language": "python",
   "name": "python3"
  },
  "language_info": {
   "codemirror_mode": {
    "name": "ipython",
    "version": 2
   },
   "file_extension": ".py",
   "mimetype": "text/x-python",
   "name": "python",
   "nbconvert_exporter": "python",
   "pygments_lexer": "ipython2",
   "version": "2.7.6"
  }
 },
 "nbformat": 4,
 "nbformat_minor": 5
}
